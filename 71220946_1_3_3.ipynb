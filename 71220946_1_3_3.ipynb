{
  "nbformat": 4,
  "nbformat_minor": 0,
  "metadata": {
    "colab": {
      "provenance": []
    },
    "kernelspec": {
      "name": "python3",
      "display_name": "Python 3"
    },
    "language_info": {
      "name": "python"
    }
  },
  "cells": [
    {
      "cell_type": "code",
      "execution_count": null,
      "metadata": {
        "id": "iFGzT-x7E-Dh"
      },
      "outputs": [],
      "source": [
        "a = int(input(\"Masukkan Bilangan Pertama: \"))\n",
        "b = int(input(\"Masukkan Bilangan Kedua: \"))\n",
        "c = int(input(\"Masukkan Bilangan Ketiga: \"))\n",
        "\n",
        "if a > b and a > c:\n",
        "    print(\"Terbesar:\", a)\n",
        "elif b > a and b > c:\n",
        "    print(\"Terbesar:\", b)\n",
        "else:\n",
        "    print(\"Terbesar:\", c)\n",
        "\n",
        "try :\n",
        "    a = int(input(\"Masukkan Bilangan Pertama: \"))\n",
        "    b = int(input(\"Masukkan Bilangan Kedua: \"))\n",
        "    c = int(input(\"Masukkan Bilangan Ketiga: \"))\n",
        "\n",
        "    if a > b and a > c:\n",
        "        print(\"Terbesar:\", a)\n",
        "    elif b > a and b > c:\n",
        "        print(\"Terbesar:\", b)\n",
        "    else:\n",
        "        print(\"Terbesar:\", c)\n",
        "\n",
        "except :\n",
        "    print(\"Bilangan yang anda inputkan salah!\")"
      ]
    }
  ]
}