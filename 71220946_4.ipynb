{
  "nbformat": 4,
  "nbformat_minor": 0,
  "metadata": {
    "colab": {
      "provenance": []
    },
    "kernelspec": {
      "name": "python3",
      "display_name": "Python 3"
    },
    "language_info": {
      "name": "python"
    }
  },
  "cells": [
    {
      "cell_type": "code",
      "execution_count": null,
      "metadata": {
        "id": "DJXH9S62Ks00"
      },
      "outputs": [],
      "source": [
        "a = int(input(\"Masukkan Sisi 1: \"))\n",
        "b = int(input(\"Masukkan sisi 2: \"))\n",
        "c = int(input(\"Masukkan sisi 3: \"))\n",
        "\n",
        "if a == b == c:\n",
        "    print(\"3 sisi sama\")\n",
        "elif a == b or a == c or b == c:\n",
        "    print(\"2 sisi sama\")\n",
        "else:\n",
        "    print(\"Tidak ada yang sama\")\n"
      ]
    }
  ]
}