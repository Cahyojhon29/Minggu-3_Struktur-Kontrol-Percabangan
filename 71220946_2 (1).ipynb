{
  "nbformat": 4,
  "nbformat_minor": 0,
  "metadata": {
    "colab": {
      "provenance": []
    },
    "kernelspec": {
      "name": "python3",
      "display_name": "Python 3"
    },
    "language_info": {
      "name": "python"
    }
  },
  "cells": [
    {
      "cell_type": "code",
      "execution_count": null,
      "metadata": {
        "id": "lNgiSxD2GKi2"
      },
      "outputs": [],
      "source": [
        "bilangan = int(input(\"Masukkan Bilangan Anda :\"))\n",
        "print (\"Bilangan\",bilangan,\"adalah negatif!\") if bilangan <0 else print (\"Bilangan\",bilangan,\"adalah positif!\")"
      ]
    }
  ]
}