{
  "nbformat": 4,
  "nbformat_minor": 0,
  "metadata": {
    "colab": {
      "provenance": []
    },
    "kernelspec": {
      "name": "python3",
      "display_name": "Python 3"
    },
    "language_info": {
      "name": "python"
    }
  },
  "cells": [
    {
      "cell_type": "code",
      "execution_count": null,
      "metadata": {
        "id": "xYHB6zz7DH87"
      },
      "outputs": [],
      "source": [
        "bilangan = int(input(\"Masukkan Bilangan Anda : \"))\n",
        "if bilangan > 0 :\n",
        "    print(\"bilangan\",bilangan,\"adalah positif\")\n",
        "elif bilangan < 0 :\n",
        "    print(\"bilangan\",bilangan,\"adalah negatif\")\n",
        "else :\n",
        "    print(\"Nol\")\n",
        "try :\n",
        "    bilangan = int(input(\"Masukkan Bilangan Anda : \"))\n",
        "    if bilangan > 0 :\n",
        "        print(\"bilangan\",bilangan,\"adalah positif\")\n",
        "    elif bilangan < 0 :\n",
        "        print(\"bilangan\",bilangan,\"adalah negatif\")\n",
        "    else :\n",
        "        print(\"Nol\")\n",
        "except :\n",
        "    print(\"Bilangan yang anda inputkan salah!\")"
      ]
    }
  ]
}