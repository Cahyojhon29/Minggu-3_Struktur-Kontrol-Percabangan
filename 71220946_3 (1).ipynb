{
  "nbformat": 4,
  "nbformat_minor": 0,
  "metadata": {
    "colab": {
      "provenance": []
    },
    "kernelspec": {
      "name": "python3",
      "display_name": "Python 3"
    },
    "language_info": {
      "name": "python"
    }
  },
  "cells": [
    {
      "cell_type": "code",
      "execution_count": null,
      "metadata": {
        "id": "yj6UbeiIJI9W"
      },
      "outputs": [],
      "source": [
        "bulan = int(input(\"Masukkan Bulan (1-12): \"))\n",
        "if bulan in (1,3,5,7,9,11) :\n",
        "    print (\"Jumlah Hari: 31\")\n",
        "elif bulan in (4,6,8,10,12) :\n",
        "    print(\"Jumlah Hari: 30\")\n",
        "elif bulan == 2 :\n",
        "    print(\"Jumlah Hari: 29\")\n",
        "\n",
        "try :\n",
        "    bulan = int(input(\"Masukkan Bulan (1-12): \"))\n",
        "    if bulan in (1,3,5,7,9,11) :\n",
        "        print (\"Jumlah Hari: 31\")\n",
        "    elif bulan in (4,6,8,10,12) :\n",
        "        print(\"Jumlah Hari: 30\")\n",
        "    elif bulan == 2 :\n",
        "        print(\"Jumlah Hari: 29\")\n",
        "except :\n",
        "    print(\"Bulan yang anda inputkan tidak valid!\")"
      ]
    }
  ]
}