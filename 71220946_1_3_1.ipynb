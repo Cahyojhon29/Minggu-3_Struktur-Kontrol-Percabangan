{
  "nbformat": 4,
  "nbformat_minor": 0,
  "metadata": {
    "colab": {
      "provenance": []
    },
    "kernelspec": {
      "name": "python3",
      "display_name": "Python 3"
    },
    "language_info": {
      "name": "python"
    }
  },
  "cells": [
    {
      "cell_type": "code",
      "execution_count": 2,
      "metadata": {
        "colab": {
          "base_uri": "https://localhost:8080/"
        },
        "id": "ziwJKamt_-bR",
        "outputId": "b0ba12fa-4edf-4df4-92d9-457ab0e7b72e"
      },
      "outputs": [
        {
          "output_type": "stream",
          "name": "stdout",
          "text": [
            "Masukkan suhu tubuh: 12\n",
            "Tidak demam\n",
            "Masukkan suhu tubuh: 54\n",
            "Anda demam\n"
          ]
        }
      ],
      "source": [
        "suhu = int(input(\"Masukkan suhu tubuh: \"))\n",
        "if suhu >= 38:\n",
        "    print(\"Anda demam\")\n",
        "else :\n",
        "    suhu <= 37\n",
        "    print(\"Tidak demam\")\n",
        "try :\n",
        "    suhu = int(input(\"Masukkan suhu tubuh: \"))\n",
        "    if suhu >= 38 :\n",
        "        print(\"Anda demam\")\n",
        "    else :\n",
        "        suhu <= 37\n",
        "        print(\"Tidak demam\")\n",
        "except :\n",
        "    print(\"Suhu yang anda inputkan salah!\")"
      ]
    }
  ]
}